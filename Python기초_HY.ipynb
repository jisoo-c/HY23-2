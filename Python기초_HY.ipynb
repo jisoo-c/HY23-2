{
  "nbformat": 4,
  "nbformat_minor": 0,
  "metadata": {
    "colab": {
      "provenance": [],
      "authorship_tag": "ABX9TyMlOK0i2yAmpqKXeZvA3wNm",
      "include_colab_link": true
    },
    "kernelspec": {
      "name": "python3",
      "display_name": "Python 3"
    },
    "language_info": {
      "name": "python"
    }
  },
  "cells": [
    {
      "cell_type": "markdown",
      "metadata": {
        "id": "view-in-github",
        "colab_type": "text"
      },
      "source": [
        "<a href=\"https://colab.research.google.com/github/jisoo-c/HY23-2/blob/main/Python%EA%B8%B0%EC%B4%88_HY.ipynb\" target=\"_parent\"><img src=\"https://colab.research.google.com/assets/colab-badge.svg\" alt=\"Open In Colab\"/></a>"
      ]
    },
    {
      "cell_type": "markdown",
      "source": [
        "참고: https://nomadcoders.co/courses\n",
        "\n",
        "# 정의하기\n",
        "함수, 변수"
      ],
      "metadata": {
        "id": "gMP4GUHANYzc"
      }
    },
    {
      "cell_type": "code",
      "execution_count": null,
      "metadata": {
        "colab": {
          "base_uri": "https://localhost:8080/"
        },
        "id": "4tYJpUDTNE0g",
        "outputId": "a916def9-db4e-48d5-f804-0ac6942f1c6b"
      },
      "outputs": [
        {
          "output_type": "stream",
          "name": "stdout",
          "text": [
            "Hello J\n"
          ]
        }
      ],
      "source": [
        "#함수정의하기\n",
        "\n",
        "def say_hello(user_name):\n",
        "  print(\"Hello\", user_name)\n",
        "\n",
        "#user_name 대신에 \"J\".\n",
        "say_hello(\"J\")"
      ]
    },
    {
      "cell_type": "code",
      "source": [
        "#입력값 없는 디폴트 설정\n",
        "\n",
        "def say_hello(user_name=\"anonymous\"):\n",
        "  print(\"Hello\", user_name)\n",
        "\n",
        "say_hello()"
      ],
      "metadata": {
        "colab": {
          "base_uri": "https://localhost:8080/"
        },
        "id": "kiRJE0y5NaI3",
        "outputId": "b13afb1e-6c51-47c2-daa8-00383ff635f3"
      },
      "execution_count": null,
      "outputs": [
        {
          "output_type": "stream",
          "name": "stdout",
          "text": [
            "Hello anonymous\n"
          ]
        }
      ]
    },
    {
      "cell_type": "code",
      "source": [
        "#같은 정의 속 변수 두개 설정\n",
        "\n",
        "def tax_calculator(income, tax_rate):\n",
        "  print(income*tax_rate)\n",
        "\n",
        "tax_calculator(1000, 0.35)"
      ],
      "metadata": {
        "colab": {
          "base_uri": "https://localhost:8080/"
        },
        "id": "X1jAe-nuNaOk",
        "outputId": "53d738b3-0562-40a9-8588-3f7a38a24174"
      },
      "execution_count": null,
      "outputs": [
        {
          "output_type": "stream",
          "name": "stdout",
          "text": [
            "350.0\n"
          ]
        }
      ]
    },
    {
      "cell_type": "code",
      "source": [
        "#다른 정의 변수 추가 설정, 합치기\n",
        "\n",
        "#1. 위와 동일\n",
        "def tax_calculator(income, tax_rate):\n",
        "  print(income*tax_rate)\n",
        "\n",
        "tax_calculator(1000, 0.35)\n",
        "\n",
        "#2. 추가하고자 하는 정의\n",
        "def tax_pay(tax_amount):\n",
        "  print(\"Thank you for paying tax\", tax_amount)\n",
        "\n",
        "tax_pay(350.0)\n",
        "\n",
        "#3 둘을 합침 --> return 사용\n",
        "def tax_calculator(income, tax_rate):\n",
        "  return income*tax_rate\n",
        "\n",
        "def tax_pay(tax_amount):\n",
        "  print(\"Thank you for paying tax\", tax_amount)\n",
        "\n",
        "to_pay = tax_calculator(1000, 0.35)\n",
        "tax_pay(to_pay)"
      ],
      "metadata": {
        "colab": {
          "base_uri": "https://localhost:8080/"
        },
        "id": "nJ6gSlKXNaQk",
        "outputId": "ce05a1a9-2e75-4617-b362-c0d85c97d7dd"
      },
      "execution_count": null,
      "outputs": [
        {
          "output_type": "stream",
          "name": "stdout",
          "text": [
            "350.0\n",
            "Thank you for paying tax 350.0\n",
            "Thank you for paying tax 350.0\n"
          ]
        }
      ]
    },
    {
      "cell_type": "code",
      "source": [
        "#중괄호랑 f\n",
        "\n",
        "def make_juice(fruit):\n",
        "  return f\"{fruit}\"\n",
        "\n",
        "def add_ice(juice):\n",
        "  return f\"{juice}\"\n",
        "\n",
        "def add_sugar(iced_juice):\n",
        "  return f\"{iced_juice}\"\n",
        "\n",
        "juice = make_juice\n",
        "cold_juice = add_ice(juice)\n",
        "perfect_juice = add_sugar(cold_juice)\n",
        "\n",
        "print(perfect_juice)"
      ],
      "metadata": {
        "id": "o3xvy50rPtvE",
        "colab": {
          "base_uri": "https://localhost:8080/"
        },
        "outputId": "5279479c-c729-477b-d112-675eacb985c8"
      },
      "execution_count": null,
      "outputs": [
        {
          "output_type": "stream",
          "name": "stdout",
          "text": [
            "<function make_juice at 0x7fa1aafe8670>\n"
          ]
        }
      ]
    },
    {
      "cell_type": "code",
      "source": [
        "# controlflow --> 조건설정\n",
        "\n",
        "if 10 > 5:\n",
        "  print(\"correct\")"
      ],
      "metadata": {
        "id": "6fL64tE7Pt3x",
        "colab": {
          "base_uri": "https://localhost:8080/"
        },
        "outputId": "ef5e2dbe-c90c-443d-b2c8-527ac16c9b62"
      },
      "execution_count": null,
      "outputs": [
        {
          "output_type": "stream",
          "name": "stdout",
          "text": [
            "correct\n"
          ]
        }
      ]
    },
    {
      "cell_type": "code",
      "source": [
        "#또는 그냥 조건만 써줘도 됨.\n",
        "\n",
        "if correct:\n",
        "  print(\"correct\")"
      ],
      "metadata": {
        "colab": {
          "base_uri": "https://localhost:8080/"
        },
        "id": "gpx2luO_-yXr",
        "outputId": "96857cf6-55ee-4bc3-8e08-fc280c5f55d1"
      },
      "execution_count": null,
      "outputs": [
        {
          "output_type": "stream",
          "name": "stdout",
          "text": [
            "correct\n"
          ]
        }
      ]
    },
    {
      "cell_type": "code",
      "source": [
        "#정의를 해줄거면 그 위에서 해줘도 됨. 단, 한개만.\n",
        "\n",
        "a = \"J\"\n",
        "\n",
        "if a == \"J\":\n",
        "  print(\"True\")"
      ],
      "metadata": {
        "id": "4lN-TjDNPt-F",
        "colab": {
          "base_uri": "https://localhost:8080/"
        },
        "outputId": "d56de34f-6f13-455b-b078-b698d9fba4fb"
      },
      "execution_count": null,
      "outputs": [
        {
          "output_type": "stream",
          "name": "stdout",
          "text": [
            "True\n"
          ]
        }
      ]
    },
    {
      "cell_type": "code",
      "source": [
        "#아닌 경우도 옵션에 넣고 싶으면 else를 쓰면됨.\n",
        "#else는 if가 false일때\n",
        "\n",
        "password_corret = False\n",
        "\n",
        "if password_corret:\n",
        "  print(\"Here is your money\")\n",
        "else:\n",
        "  print(\"Wong password\")"
      ],
      "metadata": {
        "colab": {
          "base_uri": "https://localhost:8080/"
        },
        "id": "jmSOOKqO9s0H",
        "outputId": "6c8cb40a-2a87-447c-eddc-8beb10372860"
      },
      "execution_count": null,
      "outputs": [
        {
          "output_type": "stream",
          "name": "stdout",
          "text": [
            "Wong password\n"
          ]
        }
      ]
    },
    {
      "cell_type": "code",
      "source": [
        "#여러 옵션을 두고 싶으면 elif를 쓰면됨.  (true/fale/나머진 else)\n",
        "#elif는 무한정 정할 수 있음. 단, 순서는 위에서 아래로만.\n",
        "\n",
        "winner = 10\n",
        "\n",
        "if winner > 10:\n",
        "  print(\"Winner is grater than 10\")\n",
        "elif winner<10:\n",
        "  print(\"Winner is less than 10\")\n",
        "else:\n",
        "  print(\"Winner is 10\")"
      ],
      "metadata": {
        "colab": {
          "base_uri": "https://localhost:8080/"
        },
        "id": "5x-Xs-_y9s2b",
        "outputId": "03338e3d-dab5-4eb2-b62c-13d03c360215"
      },
      "execution_count": null,
      "outputs": [
        {
          "output_type": "stream",
          "name": "stdout",
          "text": [
            "Winner is 10\n"
          ]
        }
      ]
    },
    {
      "cell_type": "code",
      "source": [
        "#세금계산기 만들기\n",
        "monthly_revenue = 5500000\n",
        "monthly_expenses = 2700000\n",
        "tax_credits = 0.01\n",
        "\n",
        "#1\n",
        "def get_yearly_revenue(monthly_revenue):\n",
        "    return monthly_revenue*12\n",
        "\n",
        "#2\n",
        "def get_yearly_expenses(monthly_expenses):\n",
        "    return monthly_expenses*12\n",
        "\n",
        "profit = get_yearly_revenue(monthly_revenue) - get_yearly_expenses(monthly_expenses)"
      ],
      "metadata": {
        "id": "g6LntP5pWjv6"
      },
      "execution_count": null,
      "outputs": []
    },
    {
      "cell_type": "code",
      "source": [
        "#나머지 만들어보세요\n",
        "\n",
        "#3\n",
        "def get_tax_amount(profit):\n",
        "  if profit > 100000:\n",
        "    return profit*0.25\n",
        "  else:\n",
        "    return profit*0.15\n",
        "\n",
        "tax_amount = get_tax_amount(profit)\n",
        "\n",
        "#4\n",
        "def apply_tax_credits(tax_amount, tax_credits):\n",
        "  return tax_amount*tax_credits\n",
        "\n",
        "final_tax_amount = tax_amount - apply_tax_credits(tax_amount, tax_credits)\n",
        "\n",
        "print(f\"Your tax bill is: ${final_tax_amount}\")"
      ],
      "metadata": {
        "colab": {
          "base_uri": "https://localhost:8080/"
        },
        "id": "QiFZ5KlR9s4a",
        "outputId": "5393353d-05fb-4b27-d12d-95445ae7ea11"
      },
      "execution_count": null,
      "outputs": [
        {
          "output_type": "stream",
          "name": "stdout",
          "text": [
            "Your tax bill is: $8316000.0\n"
          ]
        }
      ]
    },
    {
      "cell_type": "markdown",
      "source": [
        "# Controll Flow 조건 컨트롤"
      ],
      "metadata": {
        "id": "x3s34ewPwxnM"
      }
    },
    {
      "cell_type": "markdown",
      "source": [
        "## 사용자 입력 옵션에 따른 대답"
      ],
      "metadata": {
        "id": "8Hdj0Pl-AYMC"
      }
    },
    {
      "cell_type": "code",
      "source": [
        "#input함수로 사용자가 답한 것이 return값이 되게 하기\n",
        "\n",
        "age = input(\"how old are you?\")\n",
        "\n",
        "print(\"user answer\", age)\n",
        "\n",
        "#type함수로 자료 타입 프린트하기\n",
        "\n",
        "print(type(age))"
      ],
      "metadata": {
        "colab": {
          "base_uri": "https://localhost:8080/"
        },
        "id": "8vwmneYJwxv8",
        "outputId": "41234691-9225-4f0b-cc46-699233cd3cb7"
      },
      "execution_count": null,
      "outputs": [
        {
          "output_type": "stream",
          "name": "stdout",
          "text": [
            "how old are you?34\n",
            "user answer 34\n",
            "<class 'str'>\n"
          ]
        }
      ]
    },
    {
      "cell_type": "code",
      "source": [
        "#if랑 조합하려는데 숫자가 자료타입이 string이라서 if age < 18 이렇게는 안됨.\n",
        "\n",
        "age = int(input(\"how old are you?\"))\n",
        "\n",
        "if age < 18:\n",
        "  print(\"you can't drink.\")\n",
        "elif age >18 and age<35:          #\"and\"함수로 교집합 만들어줄 수 있음. 즉, 둘다 true여야 함.\n",
        "  print(\"you drink beer!\")\n",
        "elif age == 60 or age == 70:\n",
        "  print(\"birthday party!\")            #\"or\"함수로 하나만 true로 만들 수 있음.\n",
        "else:\n",
        "  print(\"go ahead!\")"
      ],
      "metadata": {
        "colab": {
          "base_uri": "https://localhost:8080/"
        },
        "id": "hgakdExIwxya",
        "outputId": "dc69231b-728d-4aff-c760-770df0653e84"
      },
      "execution_count": null,
      "outputs": [
        {
          "output_type": "stream",
          "name": "stdout",
          "text": [
            "how old are you?60\n",
            "birthday party!\n"
          ]
        }
      ]
    },
    {
      "cell_type": "code",
      "source": [
        "#사용자 퀴즈\n",
        "\n",
        "user_choice = int(input(\"Choose number.\"))\n",
        "pc_choice = 50\n",
        "\n",
        "if user_choice == pc_choice:\n",
        "  print(\"you won!\")\n",
        "elif user_choice > pc_choice:\n",
        "  print(\"lower!\")\n",
        "elif user_choice < pc_choice:\n",
        "  print(\"higher!\")"
      ],
      "metadata": {
        "colab": {
          "base_uri": "https://localhost:8080/"
        },
        "id": "3qk-GcM5BRte",
        "outputId": "819f34f3-2230-44f1-cff7-dd59569ac485"
      },
      "execution_count": null,
      "outputs": [
        {
          "output_type": "stream",
          "name": "stdout",
          "text": [
            "Choose number.50\n",
            "you won!\n"
          ]
        }
      ]
    },
    {
      "cell_type": "markdown",
      "source": [
        "## 라이브러리/함수/불러오기import\n",
        "참고: 함수들(int, input 같은)이 모인 것을 그 언어의 \"standard library\"라고 부름.\n",
        "https://docs.python.org/3/library/\n",
        "그런데! 아무것도 안했는데도 가동 가능한 기본 세트는 너무 적어서 자기 코딩에 맞는 걸 \"불러\"와야함. 그게 import. --> 파이썬의 모든 함수가 기본 세트면 너무 느려질 것이기 때문에 기본 세트 외의 다른 함수는 사용은 가능하지만 각자가 불러와줘야 함.\n"
      ],
      "metadata": {
        "id": "Z4ziNeV-AoO2"
      }
    },
    {
      "cell_type": "code",
      "source": [
        "#함수를 라이브러리에서 불러오기\n",
        "#from 모듈\n",
        "#import 함수1, 함수2 (같은 모듈 안에 있으면 한 줄에 쓸 수 있음.)\n",
        "\n",
        "from random import randint\n",
        "\n",
        "user_choice = int(input(\"Choose number.\"))\n",
        "pc_choice = randint(1, 50)\n",
        "\n",
        "if user_choice == pc_choice:\n",
        "  print(\"you won!\")\n",
        "elif user_choice > pc_choice:\n",
        "  print(\"lower! computer chose\", pc_choice)\n",
        "elif user_choice < pc_choice:\n",
        "  print(\"higher! computer chose\", pc_choice)\n",
        "\n",
        "  #참고: 긴 코드를 주석처리 없이 다 무시하게 하고 싶다면, \"\"\"를 시작과 끝에 붙여주면 됨."
      ],
      "metadata": {
        "colab": {
          "base_uri": "https://localhost:8080/"
        },
        "id": "F6jLyZnAAmWN",
        "outputId": "0360d3a9-34aa-4eb5-81a6-19df35b9a4d7"
      },
      "execution_count": null,
      "outputs": [
        {
          "output_type": "stream",
          "name": "stdout",
          "text": [
            "Choose number.7\n",
            "higher! computer chose 28\n"
          ]
        }
      ]
    },
    {
      "cell_type": "code",
      "source": [
        "#While함수 쓰기\n",
        "#--> while은 if와 모든게 같지만, 멈추지를 않음. 그러니 조건문 쓸 때 false가 나와서 끝나게끔 써줘야 함.\n",
        "\n",
        "distance = 0\n",
        "\n",
        "while distance < 5:            #5 이상은 false가 되므로 멈춤.\n",
        "  print(\"I'm running:\", distance, \"km.\")\n",
        "  distance = distance + 1"
      ],
      "metadata": {
        "colab": {
          "base_uri": "https://localhost:8080/"
        },
        "id": "S-Yjio-xwx2v",
        "outputId": "66d078ed-ca6a-4609-f6ee-ca1258a8a107"
      },
      "execution_count": null,
      "outputs": [
        {
          "output_type": "stream",
          "name": "stdout",
          "text": [
            "I'm running: 0 km.\n",
            "I'm running: 1 km.\n",
            "I'm running: 2 km.\n",
            "I'm running: 3 km.\n",
            "I'm running: 4 km.\n"
          ]
        }
      ]
    },
    {
      "cell_type": "code",
      "source": [
        "#while을 사용해서 유저가 이길때까지 해볼 수 있게 하기\n",
        "\n",
        "from random import randint\n",
        "\n",
        "print(\"welcome to Python casino!\")\n",
        "pc_choice = randint(1, 50)\n",
        "\n",
        "playing = True\n",
        "\n",
        "while playing:\n",
        "  user_choice = int(input(\"Choose number 1-50:\"))\n",
        "  if user_choice == pc_choice:\n",
        "    print(\"you won!\")\n",
        "    playing = False\n",
        "  elif user_choice > pc_choice:\n",
        "    print(\"lower!\")\n",
        "  elif user_choice < pc_choice:\n",
        "    print(\"higher!\")"
      ],
      "metadata": {
        "colab": {
          "base_uri": "https://localhost:8080/"
        },
        "id": "QAd94-FPEIFC",
        "outputId": "718c425b-a9d6-436e-df9c-805e5ac5b20f"
      },
      "execution_count": null,
      "outputs": [
        {
          "output_type": "stream",
          "name": "stdout",
          "text": [
            "welcome to Python casino!\n",
            "Choose number 1-50:25\n",
            "higher!\n",
            "Choose number 1-50:35\n",
            "higher!\n",
            "Choose number 1-50:45\n",
            "lower!\n",
            "Choose number 1-50:37\n",
            "higher!\n",
            "Choose number 1-50:43\n",
            "you won!\n"
          ]
        }
      ]
    },
    {
      "cell_type": "code",
      "source": [
        "#계산기 만들기\n",
        "\n",
        "playing = True\n",
        "\n",
        "while playing:\n",
        "  a = int(input(\"Choose a number:\\n\"))\n",
        "  b = int(input(\"Choose another one:\\n\"))\n",
        "  operation = input(\"Choose an operation:\\n    Options are: + , - , * or /.\\n    Write 'exit' to finish.\\n\")\n",
        "\n",
        "  if operation == \"+\":\n",
        "    print(\"Result:\", a+b)\n",
        "  elif operation == \"-\":\n",
        "    print(\"Result:\", a-b)\n",
        "  elif operation == \"*\":\n",
        "    print(\"Result:\", a*b)\n",
        "  elif operation == \"/\":\n",
        "    print(\"Result:\", a/b)\n",
        "  elif operation == \"exit\":\n",
        "    playing = False"
      ],
      "metadata": {
        "id": "-45ujKVND3ia"
      },
      "execution_count": null,
      "outputs": []
    },
    {
      "cell_type": "markdown",
      "source": [
        "# Data Structures 자료구조\n",
        "- list\n",
        "- tuple\n",
        "- dictionary\n",
        "\n",
        "#Method\n",
        ": 데이터에 연결된 함수 (= 점 뒤의 '연결된' 함수)"
      ],
      "metadata": {
        "id": "qen5xxjt-d0B"
      }
    },
    {
      "cell_type": "code",
      "source": [
        "#list: 대괄호 안에 여러개를 넣음\n",
        "\n",
        "days_of_week = [\"Mon\", \"Tue\", \"Wed\", \"Thur\",\"Fri\"]\n",
        "\n",
        "print(days_of_week)"
      ],
      "metadata": {
        "id": "goJ3jx9RD3km",
        "colab": {
          "base_uri": "https://localhost:8080/"
        },
        "outputId": "22bf0a11-378a-49cf-eac7-a2ff84135011"
      },
      "execution_count": null,
      "outputs": [
        {
          "output_type": "stream",
          "name": "stdout",
          "text": [
            "['Mon', 'Tue', 'Wed', 'Thur', 'Fri']\n"
          ]
        }
      ]
    },
    {
      "cell_type": "code",
      "source": [
        "#method\n",
        "name = \"choi\"\n",
        "print(name.upper()) #여기서 print는 함수고, 위의 name이 데이터(=자료)라고 한다면, .뒤에 쓰는것은 그 데이터에 연결돼서 작용하게 하는 함수.\n",
        "#즉, upper라는 메소드가 앞에 있는 데이터에 대해 작용함.\n",
        "#이건 다 다름. 예를 들어, 알파벳 데이터에는 upper, capitalize 등이 있다면, string에는 또 다른 메소드들이 있음.\n",
        "#이런 메소드는 혼자서는 불러올 수 없고, 점 앞에 데이터가 \"반드시\" 있어야 함."
      ],
      "metadata": {
        "colab": {
          "base_uri": "https://localhost:8080/"
        },
        "id": "6HcYmWoY-mqN",
        "outputId": "6e4e5bb2-eb67-4fde-969e-75cfe4d90fc3"
      },
      "execution_count": null,
      "outputs": [
        {
          "output_type": "stream",
          "name": "stdout",
          "text": [
            "CHOI\n"
          ]
        }
      ]
    },
    {
      "cell_type": "code",
      "source": [
        "print(\"choi\".upper()) #이렇게 해도됨."
      ],
      "metadata": {
        "colab": {
          "base_uri": "https://localhost:8080/"
        },
        "id": "_DLooVRA-msj",
        "outputId": "f3b9edd7-c8f4-407d-8fb7-dc587706546b"
      },
      "execution_count": null,
      "outputs": [
        {
          "output_type": "stream",
          "name": "stdout",
          "text": [
            "CHOI\n"
          ]
        }
      ]
    },
    {
      "cell_type": "code",
      "source": [
        "#list에는 이런 메소드를 적용할 수 있음.\n",
        "\n",
        "days_of_week = [\"Mon\", \"Tue\", \"Wed\", \"Thur\",\"Fri\"] #종류는 list, 데이터는 그 안에 들은 것.\n",
        "\n",
        "print(days_of_week.count(\"Wed\"))\n",
        "print(days_of_week.clear())"
      ],
      "metadata": {
        "colab": {
          "base_uri": "https://localhost:8080/"
        },
        "id": "efSF5FtY-mu5",
        "outputId": "950528eb-5325-417d-fc21-3fa5e9a9d014"
      },
      "execution_count": null,
      "outputs": [
        {
          "output_type": "stream",
          "name": "stdout",
          "text": [
            "1\n",
            "None\n"
          ]
        }
      ]
    },
    {
      "cell_type": "code",
      "source": [
        "#list 속 데이터는 메소드를 통해 수정할 수 있음(mutate, modify)\n",
        "\n",
        "days_of_week = [\"Mon\", \"Tue\", \"Wed\", \"Thur\",\"Fri\"]\n",
        "\n",
        "days_of_week.append(\"Sat\")\n",
        "\n",
        "print(days_of_week)\n",
        "\n",
        "days_of_week.append(\"Sun\") #단, append 특성상 두개를 같이 추가할 순 없음.\n",
        "\n",
        "print(days_of_week)"
      ],
      "metadata": {
        "colab": {
          "base_uri": "https://localhost:8080/"
        },
        "id": "6CMHmU3wGd4a",
        "outputId": "e69519e7-12a2-4e1c-ad90-6b1202edf74a"
      },
      "execution_count": null,
      "outputs": [
        {
          "output_type": "stream",
          "name": "stdout",
          "text": [
            "['Mon', 'Tue', 'Wed', 'Thur', 'Fri', 'Sat']\n",
            "['Mon', 'Tue', 'Wed', 'Thur', 'Fri', 'Sat', 'Sun']\n"
          ]
        }
      ]
    },
    {
      "cell_type": "code",
      "source": [
        "#list속 데이터 중 특정 데이터만 '몇 번째'의 형태로 지정 가능.\n",
        "#단, 컴퓨터는 앞에서는 0부터 세고, 뒤에서는 -1부터 셈.\n",
        "\n",
        "days_of_week = [\"Mon\", \"Tue\", \"Wed\", \"Thur\",\"Fri\"]\n",
        "\n",
        "print(days_of_week[3])\n",
        "print(days_of_week[-1])"
      ],
      "metadata": {
        "colab": {
          "base_uri": "https://localhost:8080/"
        },
        "id": "WGT5jncqGd6o",
        "outputId": "2064ec99-a762-4415-f0dd-6ec9fe5ba68a"
      },
      "execution_count": null,
      "outputs": [
        {
          "output_type": "stream",
          "name": "stdout",
          "text": [
            "Thur\n",
            "Fri\n"
          ]
        }
      ]
    },
    {
      "cell_type": "code",
      "source": [
        "#튜플 = 리스트랑 같은데 대괄호가 아닌 소괄호. 그러나 변경 불가.\n",
        "\n",
        "days_of_week = (\"Mon\", \"Tue\", \"Wed\", \"Thur\",\"Fri\")\n",
        "\n",
        "#물론 메소드는 쓸수있음. 그러나 변경불가라서 append, remove 같은 메소드는 없음.\n",
        "\n",
        "print(days_of_week[0]) #순서 지정은 리스트와 동일."
      ],
      "metadata": {
        "colab": {
          "base_uri": "https://localhost:8080/"
        },
        "id": "XB2spxqQGd88",
        "outputId": "37a6b2ec-0206-4991-8b17-5ee8af73759a"
      },
      "execution_count": null,
      "outputs": [
        {
          "output_type": "stream",
          "name": "stdout",
          "text": [
            "Mon\n"
          ]
        }
      ]
    },
    {
      "cell_type": "code",
      "source": [
        "#딕셔녀리 = 키 - 벨류 (원어-번역어) 구조임.\n",
        "#딕셔너리는 중괄호와 콜론이 필요함.\n",
        "#다양한 속성들이 섞인 집합이 필요할 때 씀.\n",
        "\n",
        "player = {\n",
        "    'name' : 'choi',\n",
        "    'age' : 12,\n",
        "    'alive' : True\n",
        "}\n",
        "\n",
        "print(player)\n",
        "\n",
        "print(player.get('age'))\n",
        "print(player['age'])"
      ],
      "metadata": {
        "colab": {
          "base_uri": "https://localhost:8080/"
        },
        "id": "vril6vRbLgsh",
        "outputId": "a16a7345-217f-4191-eecb-9e3fde01a842"
      },
      "execution_count": null,
      "outputs": [
        {
          "output_type": "stream",
          "name": "stdout",
          "text": [
            "{'name': 'choi', 'age': 12, 'alive': True}\n",
            "12\n",
            "12\n"
          ]
        }
      ]
    },
    {
      "cell_type": "code",
      "source": [
        "#딕셔너리는 메소드를 사용해 수정 가능함.\n",
        "\n",
        "player = {\n",
        "    'name' : 'choi',\n",
        "    'age' : 12,\n",
        "    'alive' : True\n",
        "}\n",
        "\n",
        "player.pop('age')\n",
        "print(player)\n",
        "\n",
        "player['food'] = \"apple\" #키-밸류 세트를 추가하려면 그냥 추가할 것을 대괄호 안에 넣어주면 맨 뒤에 붙음.\n",
        "print(player)\n",
        "\n",
        "print(player.get('food')) #밸류만 프린트하기\n",
        "print(player['food'])"
      ],
      "metadata": {
        "colab": {
          "base_uri": "https://localhost:8080/"
        },
        "id": "Upy9OfW2Lgye",
        "outputId": "3bc2d538-7bfb-496d-8402-ec90e77ff930"
      },
      "execution_count": null,
      "outputs": [
        {
          "output_type": "stream",
          "name": "stdout",
          "text": [
            "{'name': 'choi', 'alive': True}\n",
            "{'name': 'choi', 'alive': True, 'food': 'apple'}\n",
            "apple\n",
            "apple\n"
          ]
        }
      ]
    },
    {
      "cell_type": "markdown",
      "source": [
        "#Pandas\n",
        "1. Series\n",
        "2. DataFrame --> 중요!\n",
        "3. Panel\n",
        "\n",
        "참고: https://wikidocs.net/32829"
      ],
      "metadata": {
        "id": "Q2D9LpBGXlCn"
      }
    },
    {
      "cell_type": "code",
      "source": [
        "!pip install pandas\n",
        "\n",
        "import pandas as pd"
      ],
      "metadata": {
        "id": "SjnJXK-fY7Vb"
      },
      "execution_count": null,
      "outputs": []
    },
    {
      "cell_type": "code",
      "source": [
        "#Series는 1차원 리스트 두 개, 즉 인덱스 1열과 값 1열이 있음.\n",
        "sr = pd.Series([17000, 18000, 1000, 5000],\n",
        "               index=[\"피자\", \"치킨\", \"콜라\", \"맥주\"])\n",
        "print('시리즈 출력 :')\n",
        "print('-'*15)\n",
        "print(sr)"
      ],
      "metadata": {
        "id": "gzq_q78uXmPJ"
      },
      "execution_count": null,
      "outputs": []
    },
    {
      "cell_type": "code",
      "source": [
        "print('시리즈의 값 : {}'.format(sr.values))\n",
        "print('시리즈의 인덱스 : {}'.format(sr.index))"
      ],
      "metadata": {
        "id": "gw2gibT-Yd_2"
      },
      "execution_count": null,
      "outputs": []
    },
    {
      "cell_type": "code",
      "source": [
        "#DataFrame은 2차원 리스트, 즉 인덱스 1열과 값 1열, 그리고 그것이 나열된 열(들)이 있음.\n",
        "values = [[1, 2, 3], [4, 5, 6], [7, 8, 9]]\n",
        "index = ['one', 'two', 'three']\n",
        "columns = ['A', 'B', 'C']\n",
        "\n",
        "df = pd.DataFrame(values, index=index, columns=columns)\n",
        "\n",
        "print('데이터프레임 출력 :')\n",
        "print('-'*18)\n",
        "print(df)"
      ],
      "metadata": {
        "id": "SwqjkbDEYXME"
      },
      "execution_count": null,
      "outputs": []
    },
    {
      "cell_type": "code",
      "source": [
        "print('데이터프레임의 인덱스 : {}'.format(df.index))\n",
        "print('데이터프레임의 열이름: {}'.format(df.columns))\n",
        "print('데이터프레임의 값 :')\n",
        "print('-'*18)\n",
        "print(df.values)"
      ],
      "metadata": {
        "id": "CpwvCdZ2YXOl"
      },
      "execution_count": null,
      "outputs": []
    }
  ]
}